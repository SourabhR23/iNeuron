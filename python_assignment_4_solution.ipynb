{
 "cells": [
  {
   "cell_type": "markdown",
   "metadata": {},
   "source": [
    "**1.1 Write a Python Program(with class concepts) to find the area of the triangle using the below\n",
    "formula.**<br>\n",
    "#### area = (s*(s-a)*(s-b)*(s-c)) * * 0.5\n",
    "**Function to take the length of the sides of triangle from user should be defined in the parent\n",
    "class and function to calculate the area should be defined in subclass.**"
   ]
  },
  {
   "cell_type": "code",
   "execution_count": 1,
   "metadata": {},
   "outputs": [],
   "source": [
    "class TriangleSides:\n",
    "    def __init__(self, x, y, z):\n",
    "        self.x = x\n",
    "        self.y = y\n",
    "        self.z = z\n",
    "    \n",
    "class Area(TriangleSides):\n",
    "    def __init__(self, x, y, z):\n",
    "        super(Area, self).__init__(x, y, z)\n",
    "    def equation(self):\n",
    "        s = (self.x + self.y + self.z) / 2\n",
    "        area = (s * (s - self.x) * (s - self.y) * (s - self.z)) ** 0.5\n",
    "        return area"
   ]
  },
  {
   "cell_type": "code",
   "execution_count": 2,
   "metadata": {},
   "outputs": [
    {
     "name": "stdout",
     "output_type": "stream",
     "text": [
      "Enter side a: 10\n",
      "Enter side b: 10\n",
      "Enter side c: 10\n",
      "Area of the triange 43.30127018922193 sq units\n"
     ]
    }
   ],
   "source": [
    "side_a = float(input(\"Enter side a: \"))\n",
    "side_b = float(input(\"Enter side b: \"))\n",
    "side_c = float(input(\"Enter side c: \"))\n",
    "\n",
    "result = Area(side_a, side_b, side_c)\n",
    "print(\"Area of the triange {} sq units\".format(result.equation()))"
   ]
  },
  {
   "cell_type": "markdown",
   "metadata": {},
   "source": [
    "**1.2 Write a function filter_long_words() that takes a list of words and an integer n and returns the list of words that are longer than n.**"
   ]
  },
  {
   "cell_type": "code",
   "execution_count": 3,
   "metadata": {},
   "outputs": [],
   "source": [
    "def filter_long_words(seq, n):\n",
    "    ''' takes a list of words and an integer n and returns the list of words that are longer than n '''\n",
    "    output = []\n",
    "    for i, j in enumerate(seq):\n",
    "        if len(seq[i]) > n:\n",
    "            output.append(j)\n",
    "    return output"
   ]
  },
  {
   "cell_type": "code",
   "execution_count": 4,
   "metadata": {},
   "outputs": [
    {
     "name": "stdout",
     "output_type": "stream",
     "text": [
      "['science', 'computer technology', 'data science', 'python']\n"
     ]
    }
   ],
   "source": [
    "l1 = [\"hello\", \"world\", \"science\", \"tech\", \"computer technology\", \"data science\", \"python\"]\n",
    "print(filter_long_words(l1, 5))"
   ]
  },
  {
   "cell_type": "code",
   "execution_count": 5,
   "metadata": {},
   "outputs": [],
   "source": [
    "def filter_long_words(seq, n):\n",
    "    ''' takes a list of words and an integer n and returns the list of words that are longer than n '''\n",
    "    output = []\n",
    "    for i in seq:\n",
    "        if len(i) > n:\n",
    "            output.append(i)\n",
    "    return output"
   ]
  },
  {
   "cell_type": "code",
   "execution_count": 6,
   "metadata": {},
   "outputs": [
    {
     "name": "stdout",
     "output_type": "stream",
     "text": [
      "['science', 'computer technology', 'data science', 'python']\n"
     ]
    }
   ],
   "source": [
    "l1 = [\"hello\", \"world\", \"science\", \"tech\", \"computer technology\", \"data science\", \"python\"]\n",
    "print(filter_long_words(l1, 5))"
   ]
  },
  {
   "cell_type": "markdown",
   "metadata": {},
   "source": [
    "**2.1 Write a Python program using function concept that maps list of words into a list of integers representing the lengths of the corresponding words.<br>\n",
    "Hint: If a list [ ab,cde,erty] is passed on to the python function output should come as [2,3,4]<br>\n",
    "Here 2,3 and 4 are the lengths of the words in the list.**"
   ]
  },
  {
   "cell_type": "code",
   "execution_count": 7,
   "metadata": {},
   "outputs": [
    {
     "name": "stdout",
     "output_type": "stream",
     "text": [
      "[2, 3, 4]\n"
     ]
    }
   ],
   "source": [
    "def word_length(seq):\n",
    "    return list(map(lambda x: len(x), seq))\n",
    "\n",
    "seq = ['ab', 'cde', 'erty']\n",
    "print(word_length(seq))"
   ]
  },
  {
   "cell_type": "markdown",
   "metadata": {},
   "source": [
    "**2.2 Write a Python function which takes a character (i.e. a string of length 1) and returns True if it is a vowel, False otherwise.**"
   ]
  },
  {
   "cell_type": "code",
   "execution_count": 8,
   "metadata": {},
   "outputs": [
    {
     "name": "stdout",
     "output_type": "stream",
     "text": [
      "False\n",
      "True\n"
     ]
    }
   ],
   "source": [
    "def vowel(char):\n",
    "    vowels = ['a', 'e', 'i', 'o', 'u']\n",
    "    return char in vowels\n",
    "\n",
    "print(vowel('w'))\n",
    "print(vowel('e'))"
   ]
  },
  {
   "cell_type": "code",
   "execution_count": 9,
   "metadata": {},
   "outputs": [
    {
     "name": "stdout",
     "output_type": "stream",
     "text": [
      "Enter character: x\n",
      "False\n",
      "\n",
      "Enter character: i\n",
      "True\n"
     ]
    }
   ],
   "source": [
    "def vowel(char):\n",
    "    if char == 'a' or char == 'e' or char == 'i' or char == 'o' or char == 'u':\n",
    "        return True\n",
    "    else:\n",
    "        return False\n",
    "    \n",
    "char = input(\"Enter character: \")\n",
    "print(vowel(char))\n",
    "char = input(\"\\nEnter character: \")\n",
    "print(vowel(char))"
   ]
  }
 ],
 "metadata": {
  "kernelspec": {
   "display_name": "Python 3",
   "language": "python",
   "name": "python3"
  },
  "language_info": {
   "codemirror_mode": {
    "name": "ipython",
    "version": 3
   },
   "file_extension": ".py",
   "mimetype": "text/x-python",
   "name": "python",
   "nbconvert_exporter": "python",
   "pygments_lexer": "ipython3",
   "version": "3.7.3"
  }
 },
 "nbformat": 4,
 "nbformat_minor": 4
}
